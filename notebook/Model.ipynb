{
 "cells": [
  {
   "cell_type": "code",
   "execution_count": 2,
   "metadata": {},
   "outputs": [],
   "source": [
    "import numpy as np\n",
    "import pandas as pd\n",
    "import matplotlib.pyplot as plt \n",
    "import seaborn as sns\n",
    "from sklearn.metrics import r2_score, mean_absolute_error, mean_squared_error\n",
    "from sklearn.neighbors import KNeighborsRegressor\n",
    "from sklearn.tree import DecisionTreeRegressor\n",
    "from sklearn.ensemble import RandomForestRegressor,AdaBoostRegressor\n",
    "from sklearn.svm import SVR\n",
    "from sklearn.model_selection import RandomizedSearchCV\n",
    "from xgboost import XGBRegressor # type: ignore\n",
    "from sklearn.linear_model import LinearRegression, Ridge,Lasso\n",
    "import warnings"
   ]
  },
  {
   "cell_type": "code",
   "execution_count": 3,
   "metadata": {},
   "outputs": [],
   "source": [
    "df = pd.read_csv(\"data/AQI.csv\")"
   ]
  },
  {
   "cell_type": "code",
   "execution_count": 4,
   "metadata": {},
   "outputs": [
    {
     "data": {
      "text/html": [
       "<div>\n",
       "<style scoped>\n",
       "    .dataframe tbody tr th:only-of-type {\n",
       "        vertical-align: middle;\n",
       "    }\n",
       "\n",
       "    .dataframe tbody tr th {\n",
       "        vertical-align: top;\n",
       "    }\n",
       "\n",
       "    .dataframe thead th {\n",
       "        text-align: right;\n",
       "    }\n",
       "</style>\n",
       "<table border=\"1\" class=\"dataframe\">\n",
       "  <thead>\n",
       "    <tr style=\"text-align: right;\">\n",
       "      <th></th>\n",
       "      <th>AQI_Value</th>\n",
       "      <th>CO_AQI_Value</th>\n",
       "      <th>Ozone_AQI_Value</th>\n",
       "      <th>NO2_AQI_Value</th>\n",
       "      <th>PM2_5_AQI_Value</th>\n",
       "      <th>latitude</th>\n",
       "      <th>Liquefied_Natural_Gas</th>\n",
       "    </tr>\n",
       "  </thead>\n",
       "  <tbody>\n",
       "    <tr>\n",
       "      <th>0</th>\n",
       "      <td>51</td>\n",
       "      <td>1</td>\n",
       "      <td>36</td>\n",
       "      <td>0</td>\n",
       "      <td>51</td>\n",
       "      <td>44.7444</td>\n",
       "      <td>44.2031</td>\n",
       "    </tr>\n",
       "    <tr>\n",
       "      <th>1</th>\n",
       "      <td>41</td>\n",
       "      <td>1</td>\n",
       "      <td>5</td>\n",
       "      <td>1</td>\n",
       "      <td>41</td>\n",
       "      <td>-5.2900</td>\n",
       "      <td>-44.4900</td>\n",
       "    </tr>\n",
       "    <tr>\n",
       "      <th>2</th>\n",
       "      <td>41</td>\n",
       "      <td>1</td>\n",
       "      <td>5</td>\n",
       "      <td>1</td>\n",
       "      <td>41</td>\n",
       "      <td>-11.2958</td>\n",
       "      <td>-41.9869</td>\n",
       "    </tr>\n",
       "    <tr>\n",
       "      <th>3</th>\n",
       "      <td>66</td>\n",
       "      <td>1</td>\n",
       "      <td>39</td>\n",
       "      <td>2</td>\n",
       "      <td>66</td>\n",
       "      <td>37.1667</td>\n",
       "      <td>15.1833</td>\n",
       "    </tr>\n",
       "    <tr>\n",
       "      <th>4</th>\n",
       "      <td>34</td>\n",
       "      <td>1</td>\n",
       "      <td>34</td>\n",
       "      <td>0</td>\n",
       "      <td>20</td>\n",
       "      <td>53.0167</td>\n",
       "      <td>20.8833</td>\n",
       "    </tr>\n",
       "  </tbody>\n",
       "</table>\n",
       "</div>"
      ],
      "text/plain": [
       "   AQI_Value  CO_AQI_Value  Ozone_AQI_Value  NO2_AQI_Value  PM2_5_AQI_Value  \\\n",
       "0         51             1               36              0               51   \n",
       "1         41             1                5              1               41   \n",
       "2         41             1                5              1               41   \n",
       "3         66             1               39              2               66   \n",
       "4         34             1               34              0               20   \n",
       "\n",
       "   latitude  Liquefied_Natural_Gas  \n",
       "0   44.7444                44.2031  \n",
       "1   -5.2900               -44.4900  \n",
       "2  -11.2958               -41.9869  \n",
       "3   37.1667                15.1833  \n",
       "4   53.0167                20.8833  "
      ]
     },
     "execution_count": 4,
     "metadata": {},
     "output_type": "execute_result"
    }
   ],
   "source": [
    "df.head()"
   ]
  },
  {
   "cell_type": "code",
   "execution_count": 5,
   "metadata": {},
   "outputs": [],
   "source": [
    "# Q1 = df['AQI_Value'].quantile(0.25)\n",
    "# Q3 = df['AQI_Value'].quantile(0.75)\n",
    "# IQR = Q3 - Q1\n",
    "# lower_bound = Q1 - 1.5 * IQR\n",
    "# upper_bound = Q3 + 1.5 * IQR\n",
    "# df['AQI_Value'] = np.clip(df['AQI_Value'], lower_bound, upper_bound)"
   ]
  },
  {
   "cell_type": "code",
   "execution_count": 6,
   "metadata": {},
   "outputs": [],
   "source": [
    "# Q1 = df['CO_AQI_Value'].quantile(0.25)\n",
    "# Q3 = df['CO_AQI_Value'].quantile(0.75)\n",
    "# IQR = Q3 - Q1\n",
    "# lower_bound = Q1 - 1.5 * IQR\n",
    "# upper_bound = Q3 + 1.5 * IQR\n",
    "# df['CO_AQI_Value'] = np.clip(df['CO_AQI_Value'], lower_bound, upper_bound)"
   ]
  },
  {
   "cell_type": "code",
   "execution_count": 7,
   "metadata": {},
   "outputs": [],
   "source": [
    "# Q1 = df['Ozone_AQI_Value'].quantile(0.25)\n",
    "# Q3 = df['Ozone_AQI_Value'].quantile(0.75)\n",
    "# IQR = Q3 - Q1\n",
    "# lower_bound = Q1 - 1.5 * IQR\n",
    "# upper_bound = Q3 + 1.5 * IQR\n",
    "# df['Ozone_AQI_Value'] = np.clip(df['Ozone_AQI_Value'], lower_bound, upper_bound)\n"
   ]
  },
  {
   "cell_type": "code",
   "execution_count": 8,
   "metadata": {},
   "outputs": [],
   "source": [
    "# Q1 = df['NO2_AQI_Value'].quantile(0.25)\n",
    "# Q3 = df['NO2_AQI_Value'].quantile(0.75)\n",
    "# IQR = Q3 - Q1\n",
    "# lower_bound = Q1 - 1.5 * IQR\n",
    "# upper_bound = Q3 + 1.5 * IQR\n",
    "# df['NO2_AQI_Value'] = np.clip(df['NO2_AQI_Value'], lower_bound, upper_bound)"
   ]
  },
  {
   "cell_type": "code",
   "execution_count": 9,
   "metadata": {},
   "outputs": [],
   "source": [
    "# Q1 = df['PM2.5_AQI_Value'].quantile(0.25)\n",
    "# Q3 = df['PM2.5_AQI_Value'].quantile(0.75)\n",
    "# IQR = Q3 - Q1\n",
    "# lower_bound = Q1 - 1.5 * IQR\n",
    "# upper_bound = Q3 + 1.5 * IQR\n",
    "# df['PM2.5_AQI_Value'] = np.clip(df['PM2.5_AQI_Value'], lower_bound, upper_bound)"
   ]
  },
  {
   "cell_type": "code",
   "execution_count": 10,
   "metadata": {},
   "outputs": [
    {
     "data": {
      "text/html": [
       "<div>\n",
       "<style scoped>\n",
       "    .dataframe tbody tr th:only-of-type {\n",
       "        vertical-align: middle;\n",
       "    }\n",
       "\n",
       "    .dataframe tbody tr th {\n",
       "        vertical-align: top;\n",
       "    }\n",
       "\n",
       "    .dataframe thead th {\n",
       "        text-align: right;\n",
       "    }\n",
       "</style>\n",
       "<table border=\"1\" class=\"dataframe\">\n",
       "  <thead>\n",
       "    <tr style=\"text-align: right;\">\n",
       "      <th></th>\n",
       "      <th>AQI_Value</th>\n",
       "      <th>CO_AQI_Value</th>\n",
       "      <th>Ozone_AQI_Value</th>\n",
       "      <th>NO2_AQI_Value</th>\n",
       "      <th>PM2_5_AQI_Value</th>\n",
       "      <th>latitude</th>\n",
       "      <th>Liquefied_Natural_Gas</th>\n",
       "    </tr>\n",
       "  </thead>\n",
       "  <tbody>\n",
       "    <tr>\n",
       "      <th>0</th>\n",
       "      <td>51</td>\n",
       "      <td>1</td>\n",
       "      <td>36</td>\n",
       "      <td>0</td>\n",
       "      <td>51</td>\n",
       "      <td>44.7444</td>\n",
       "      <td>44.2031</td>\n",
       "    </tr>\n",
       "    <tr>\n",
       "      <th>1</th>\n",
       "      <td>41</td>\n",
       "      <td>1</td>\n",
       "      <td>5</td>\n",
       "      <td>1</td>\n",
       "      <td>41</td>\n",
       "      <td>-5.2900</td>\n",
       "      <td>-44.4900</td>\n",
       "    </tr>\n",
       "    <tr>\n",
       "      <th>2</th>\n",
       "      <td>41</td>\n",
       "      <td>1</td>\n",
       "      <td>5</td>\n",
       "      <td>1</td>\n",
       "      <td>41</td>\n",
       "      <td>-11.2958</td>\n",
       "      <td>-41.9869</td>\n",
       "    </tr>\n",
       "    <tr>\n",
       "      <th>3</th>\n",
       "      <td>66</td>\n",
       "      <td>1</td>\n",
       "      <td>39</td>\n",
       "      <td>2</td>\n",
       "      <td>66</td>\n",
       "      <td>37.1667</td>\n",
       "      <td>15.1833</td>\n",
       "    </tr>\n",
       "    <tr>\n",
       "      <th>4</th>\n",
       "      <td>34</td>\n",
       "      <td>1</td>\n",
       "      <td>34</td>\n",
       "      <td>0</td>\n",
       "      <td>20</td>\n",
       "      <td>53.0167</td>\n",
       "      <td>20.8833</td>\n",
       "    </tr>\n",
       "  </tbody>\n",
       "</table>\n",
       "</div>"
      ],
      "text/plain": [
       "   AQI_Value  CO_AQI_Value  Ozone_AQI_Value  NO2_AQI_Value  PM2_5_AQI_Value  \\\n",
       "0         51             1               36              0               51   \n",
       "1         41             1                5              1               41   \n",
       "2         41             1                5              1               41   \n",
       "3         66             1               39              2               66   \n",
       "4         34             1               34              0               20   \n",
       "\n",
       "   latitude  Liquefied_Natural_Gas  \n",
       "0   44.7444                44.2031  \n",
       "1   -5.2900               -44.4900  \n",
       "2  -11.2958               -41.9869  \n",
       "3   37.1667                15.1833  \n",
       "4   53.0167                20.8833  "
      ]
     },
     "execution_count": 10,
     "metadata": {},
     "output_type": "execute_result"
    }
   ],
   "source": [
    "df.head()"
   ]
  },
  {
   "cell_type": "code",
   "execution_count": 11,
   "metadata": {},
   "outputs": [],
   "source": [
    "X = df.drop(columns=['AQI_Value'],axis=1)"
   ]
  },
  {
   "cell_type": "code",
   "execution_count": null,
   "metadata": {},
   "outputs": [],
   "source": []
  },
  {
   "cell_type": "code",
   "execution_count": 12,
   "metadata": {},
   "outputs": [
    {
     "data": {
      "text/html": [
       "<div>\n",
       "<style scoped>\n",
       "    .dataframe tbody tr th:only-of-type {\n",
       "        vertical-align: middle;\n",
       "    }\n",
       "\n",
       "    .dataframe tbody tr th {\n",
       "        vertical-align: top;\n",
       "    }\n",
       "\n",
       "    .dataframe thead th {\n",
       "        text-align: right;\n",
       "    }\n",
       "</style>\n",
       "<table border=\"1\" class=\"dataframe\">\n",
       "  <thead>\n",
       "    <tr style=\"text-align: right;\">\n",
       "      <th></th>\n",
       "      <th>CO_AQI_Value</th>\n",
       "      <th>Ozone_AQI_Value</th>\n",
       "      <th>NO2_AQI_Value</th>\n",
       "      <th>PM2_5_AQI_Value</th>\n",
       "      <th>latitude</th>\n",
       "      <th>Liquefied_Natural_Gas</th>\n",
       "    </tr>\n",
       "  </thead>\n",
       "  <tbody>\n",
       "    <tr>\n",
       "      <th>0</th>\n",
       "      <td>1</td>\n",
       "      <td>36</td>\n",
       "      <td>0</td>\n",
       "      <td>51</td>\n",
       "      <td>44.7444</td>\n",
       "      <td>44.2031</td>\n",
       "    </tr>\n",
       "    <tr>\n",
       "      <th>1</th>\n",
       "      <td>1</td>\n",
       "      <td>5</td>\n",
       "      <td>1</td>\n",
       "      <td>41</td>\n",
       "      <td>-5.2900</td>\n",
       "      <td>-44.4900</td>\n",
       "    </tr>\n",
       "    <tr>\n",
       "      <th>2</th>\n",
       "      <td>1</td>\n",
       "      <td>5</td>\n",
       "      <td>1</td>\n",
       "      <td>41</td>\n",
       "      <td>-11.2958</td>\n",
       "      <td>-41.9869</td>\n",
       "    </tr>\n",
       "    <tr>\n",
       "      <th>3</th>\n",
       "      <td>1</td>\n",
       "      <td>39</td>\n",
       "      <td>2</td>\n",
       "      <td>66</td>\n",
       "      <td>37.1667</td>\n",
       "      <td>15.1833</td>\n",
       "    </tr>\n",
       "    <tr>\n",
       "      <th>4</th>\n",
       "      <td>1</td>\n",
       "      <td>34</td>\n",
       "      <td>0</td>\n",
       "      <td>20</td>\n",
       "      <td>53.0167</td>\n",
       "      <td>20.8833</td>\n",
       "    </tr>\n",
       "    <tr>\n",
       "      <th>...</th>\n",
       "      <td>...</td>\n",
       "      <td>...</td>\n",
       "      <td>...</td>\n",
       "      <td>...</td>\n",
       "      <td>...</td>\n",
       "      <td>...</td>\n",
       "    </tr>\n",
       "    <tr>\n",
       "      <th>16690</th>\n",
       "      <td>1</td>\n",
       "      <td>34</td>\n",
       "      <td>5</td>\n",
       "      <td>54</td>\n",
       "      <td>37.5516</td>\n",
       "      <td>-77.3285</td>\n",
       "    </tr>\n",
       "    <tr>\n",
       "      <th>16691</th>\n",
       "      <td>1</td>\n",
       "      <td>39</td>\n",
       "      <td>1</td>\n",
       "      <td>71</td>\n",
       "      <td>49.0650</td>\n",
       "      <td>18.9219</td>\n",
       "    </tr>\n",
       "    <tr>\n",
       "      <th>16692</th>\n",
       "      <td>1</td>\n",
       "      <td>39</td>\n",
       "      <td>1</td>\n",
       "      <td>71</td>\n",
       "      <td>36.3385</td>\n",
       "      <td>-88.8513</td>\n",
       "    </tr>\n",
       "    <tr>\n",
       "      <th>16693</th>\n",
       "      <td>1</td>\n",
       "      <td>20</td>\n",
       "      <td>5</td>\n",
       "      <td>50</td>\n",
       "      <td>48.7786</td>\n",
       "      <td>2.2906</td>\n",
       "    </tr>\n",
       "    <tr>\n",
       "      <th>16694</th>\n",
       "      <td>1</td>\n",
       "      <td>44</td>\n",
       "      <td>2</td>\n",
       "      <td>71</td>\n",
       "      <td>40.1241</td>\n",
       "      <td>-82.9210</td>\n",
       "    </tr>\n",
       "  </tbody>\n",
       "</table>\n",
       "<p>16695 rows × 6 columns</p>\n",
       "</div>"
      ],
      "text/plain": [
       "       CO_AQI_Value  Ozone_AQI_Value  NO2_AQI_Value  PM2_5_AQI_Value  \\\n",
       "0                 1               36              0               51   \n",
       "1                 1                5              1               41   \n",
       "2                 1                5              1               41   \n",
       "3                 1               39              2               66   \n",
       "4                 1               34              0               20   \n",
       "...             ...              ...            ...              ...   \n",
       "16690             1               34              5               54   \n",
       "16691             1               39              1               71   \n",
       "16692             1               39              1               71   \n",
       "16693             1               20              5               50   \n",
       "16694             1               44              2               71   \n",
       "\n",
       "       latitude  Liquefied_Natural_Gas  \n",
       "0       44.7444                44.2031  \n",
       "1       -5.2900               -44.4900  \n",
       "2      -11.2958               -41.9869  \n",
       "3       37.1667                15.1833  \n",
       "4       53.0167                20.8833  \n",
       "...         ...                    ...  \n",
       "16690   37.5516               -77.3285  \n",
       "16691   49.0650                18.9219  \n",
       "16692   36.3385               -88.8513  \n",
       "16693   48.7786                 2.2906  \n",
       "16694   40.1241               -82.9210  \n",
       "\n",
       "[16695 rows x 6 columns]"
      ]
     },
     "execution_count": 12,
     "metadata": {},
     "output_type": "execute_result"
    }
   ],
   "source": [
    "X"
   ]
  },
  {
   "cell_type": "code",
   "execution_count": 13,
   "metadata": {},
   "outputs": [],
   "source": [
    "y = df['AQI_Value']"
   ]
  },
  {
   "cell_type": "code",
   "execution_count": 14,
   "metadata": {},
   "outputs": [
    {
     "data": {
      "text/plain": [
       "0        51\n",
       "1        41\n",
       "2        41\n",
       "3        66\n",
       "4        34\n",
       "         ..\n",
       "16690    54\n",
       "16691    71\n",
       "16692    71\n",
       "16693    50\n",
       "16694    71\n",
       "Name: AQI_Value, Length: 16695, dtype: int64"
      ]
     },
     "execution_count": 14,
     "metadata": {},
     "output_type": "execute_result"
    }
   ],
   "source": [
    "y"
   ]
  },
  {
   "cell_type": "code",
   "execution_count": 15,
   "metadata": {},
   "outputs": [
    {
     "data": {
      "text/plain": [
       "((13356, 6), (3339, 6))"
      ]
     },
     "execution_count": 15,
     "metadata": {},
     "output_type": "execute_result"
    }
   ],
   "source": [
    "from sklearn.model_selection import train_test_split\n",
    "X_train, X_test, y_train, y_test = train_test_split(X,y,test_size=0.2,random_state=42)\n",
    "X_train.shape, X_test.shape"
   ]
  },
  {
   "cell_type": "code",
   "execution_count": 16,
   "metadata": {},
   "outputs": [],
   "source": [
    "def evaluate_model(true, predicted):\n",
    "    mae = mean_absolute_error(true, predicted)\n",
    "    mse = mean_squared_error(true, predicted)\n",
    "    rmse = np.sqrt(mean_squared_error(true, predicted))\n",
    "    r2_square = r2_score(true, predicted)\n",
    "    return mae, rmse, r2_square"
   ]
  },
  {
   "cell_type": "code",
   "execution_count": 17,
   "metadata": {},
   "outputs": [],
   "source": [
    "from sklearn.linear_model import LinearRegression, Lasso, Ridge\n",
    "from sklearn.neighbors import KNeighborsRegressor\n",
    "from sklearn.tree import DecisionTreeRegressor\n",
    "from sklearn.ensemble import RandomForestRegressor, AdaBoostRegressor\n",
    "from xgboost import XGBRegressor"
   ]
  },
  {
   "cell_type": "code",
   "execution_count": 18,
   "metadata": {},
   "outputs": [
    {
     "name": "stdout",
     "output_type": "stream",
     "text": [
      "Evaluating Linear Regression...\n",
      "Linear Regression Performance:\n",
      "Training Set:\n",
      "- Root Mean Squared Error: 7.3725\n",
      "- Mean Absolute Error: 4.3921\n",
      "- R² Score: 0.9715\n",
      "Test Set:\n",
      "- Root Mean Squared Error: 6.4651\n",
      "- Mean Absolute Error: 4.1264\n",
      "- R² Score: 0.9748\n",
      "=================================== \n",
      "\n",
      "Evaluating Lasso...\n",
      "Lasso Performance:\n",
      "Training Set:\n",
      "- Root Mean Squared Error: 7.3892\n",
      "- Mean Absolute Error: 4.4317\n",
      "- R² Score: 0.9713\n",
      "Test Set:\n",
      "- Root Mean Squared Error: 6.5075\n",
      "- Mean Absolute Error: 4.1756\n",
      "- R² Score: 0.9745\n",
      "=================================== \n",
      "\n",
      "Evaluating Ridge...\n",
      "Ridge Performance:\n",
      "Training Set:\n",
      "- Root Mean Squared Error: 7.3725\n",
      "- Mean Absolute Error: 4.3921\n",
      "- R² Score: 0.9715\n",
      "Test Set:\n",
      "- Root Mean Squared Error: 6.4651\n",
      "- Mean Absolute Error: 4.1264\n",
      "- R² Score: 0.9748\n",
      "=================================== \n",
      "\n",
      "Evaluating K-Neighbors Regressor...\n",
      "K-Neighbors Regressor Performance:\n",
      "Training Set:\n",
      "- Root Mean Squared Error: 2.4355\n",
      "- Mean Absolute Error: 1.1222\n",
      "- R² Score: 0.9969\n",
      "Test Set:\n",
      "- Root Mean Squared Error: 2.5774\n",
      "- Mean Absolute Error: 1.3165\n",
      "- R² Score: 0.9960\n",
      "=================================== \n",
      "\n",
      "Evaluating Decision Tree...\n",
      "Decision Tree Performance:\n",
      "Training Set:\n",
      "- Root Mean Squared Error: 0.0000\n",
      "- Mean Absolute Error: 0.0000\n",
      "- R² Score: 1.0000\n",
      "Test Set:\n",
      "- Root Mean Squared Error: 1.9493\n",
      "- Mean Absolute Error: 0.0943\n",
      "- R² Score: 0.9977\n",
      "=================================== \n",
      "\n",
      "Evaluating Random Forest Regressor...\n",
      "Random Forest Regressor Performance:\n",
      "Training Set:\n",
      "- Root Mean Squared Error: 0.7169\n",
      "- Mean Absolute Error: 0.0559\n",
      "- R² Score: 0.9997\n",
      "Test Set:\n",
      "- Root Mean Squared Error: 1.4966\n",
      "- Mean Absolute Error: 0.0913\n",
      "- R² Score: 0.9986\n",
      "=================================== \n",
      "\n",
      "Evaluating XGBRegressor...\n",
      "XGBRegressor Performance:\n",
      "Training Set:\n",
      "- Root Mean Squared Error: 0.3978\n",
      "- Mean Absolute Error: 0.1875\n",
      "- R² Score: 0.9999\n",
      "Test Set:\n",
      "- Root Mean Squared Error: 6.3421\n",
      "- Mean Absolute Error: 0.5977\n",
      "- R² Score: 0.9757\n",
      "=================================== \n",
      "\n",
      "Evaluating AdaBoost Regressor...\n",
      "AdaBoost Regressor Performance:\n",
      "Training Set:\n",
      "- Root Mean Squared Error: 12.5826\n",
      "- Mean Absolute Error: 10.0160\n",
      "- R² Score: 0.9169\n",
      "Test Set:\n",
      "- Root Mean Squared Error: 12.3267\n",
      "- Mean Absolute Error: 9.7218\n",
      "- R² Score: 0.9084\n",
      "=================================== \n",
      "\n",
      "Model Evaluation Complete.\n",
      "Best Model: Random Forest Regressor with R² Score: 0.9986\n"
     ]
    }
   ],
   "source": [
    "# Ensure all imports are included\n",
    "from sklearn.linear_model import LinearRegression, Lasso, Ridge\n",
    "from sklearn.neighbors import KNeighborsRegressor\n",
    "from sklearn.tree import DecisionTreeRegressor\n",
    "from sklearn.ensemble import RandomForestRegressor, AdaBoostRegressor\n",
    "from xgboost import XGBRegressor\n",
    "\n",
    "# Define models\n",
    "models = {\n",
    "    \"Linear Regression\": LinearRegression(),\n",
    "    \"Lasso\": Lasso(),\n",
    "    \"Ridge\": Ridge(),\n",
    "    \"K-Neighbors Regressor\": KNeighborsRegressor(),\n",
    "    \"Decision Tree\": DecisionTreeRegressor(),\n",
    "    \"Random Forest Regressor\": RandomForestRegressor(),\n",
    "    \"XGBRegressor\": XGBRegressor(),\n",
    "    # \"CatBoosting Regressor\": CatBoostRegressor(verbose=False),\n",
    "    \"AdaBoost Regressor\": AdaBoostRegressor()\n",
    "}\n",
    "\n",
    "# Initialize lists to store results\n",
    "model_list = []\n",
    "r2_list = []\n",
    "\n",
    "# Iterate through models\n",
    "for model_name, model in models.items():\n",
    "    print(f\"Evaluating {model_name}...\")\n",
    "    \n",
    "    # Train model\n",
    "    model.fit(X_train, y_train)\n",
    "    \n",
    "    # Make predictions\n",
    "    y_train_pred = model.predict(X_train)\n",
    "    y_test_pred = model.predict(X_test)\n",
    "    \n",
    "    # Evaluate Train and Test datasets\n",
    "    model_train_mae, model_train_rmse, model_train_r2 = evaluate_model(y_train, y_train_pred)\n",
    "    model_test_mae, model_test_rmse, model_test_r2 = evaluate_model(y_test, y_test_pred)\n",
    "    \n",
    "    # Store results\n",
    "    model_list.append(model_name)\n",
    "    r2_list.append(model_test_r2)\n",
    "    \n",
    "    # Print results\n",
    "    print(f\"{model_name} Performance:\")\n",
    "    print(\"Training Set:\")\n",
    "    print(f\"- Root Mean Squared Error: {model_train_rmse:.4f}\")\n",
    "    print(f\"- Mean Absolute Error: {model_train_mae:.4f}\")\n",
    "    print(f\"- R² Score: {model_train_r2:.4f}\")\n",
    "    print(\"Test Set:\")\n",
    "    print(f\"- Root Mean Squared Error: {model_test_rmse:.4f}\")\n",
    "    print(f\"- Mean Absolute Error: {model_test_mae:.4f}\")\n",
    "    print(f\"- R² Score: {model_test_r2:.4f}\")\n",
    "    print(\"=\"*35, \"\\n\")\n",
    "\n",
    "# Optional: Summarize results\n",
    "print(\"Model Evaluation Complete.\")\n",
    "best_model_index = r2_list.index(max(r2_list))\n",
    "print(f\"Best Model: {model_list[best_model_index]} with R² Score: {max(r2_list):.4f}\")\n"
   ]
  },
  {
   "cell_type": "code",
   "execution_count": 19,
   "metadata": {},
   "outputs": [
    {
     "data": {
      "text/html": [
       "<div>\n",
       "<style scoped>\n",
       "    .dataframe tbody tr th:only-of-type {\n",
       "        vertical-align: middle;\n",
       "    }\n",
       "\n",
       "    .dataframe tbody tr th {\n",
       "        vertical-align: top;\n",
       "    }\n",
       "\n",
       "    .dataframe thead th {\n",
       "        text-align: right;\n",
       "    }\n",
       "</style>\n",
       "<table border=\"1\" class=\"dataframe\">\n",
       "  <thead>\n",
       "    <tr style=\"text-align: right;\">\n",
       "      <th></th>\n",
       "      <th>Model Name</th>\n",
       "      <th>R2_Score</th>\n",
       "    </tr>\n",
       "  </thead>\n",
       "  <tbody>\n",
       "    <tr>\n",
       "      <th>5</th>\n",
       "      <td>Random Forest Regressor</td>\n",
       "      <td>0.998649</td>\n",
       "    </tr>\n",
       "    <tr>\n",
       "      <th>4</th>\n",
       "      <td>Decision Tree</td>\n",
       "      <td>0.997709</td>\n",
       "    </tr>\n",
       "    <tr>\n",
       "      <th>3</th>\n",
       "      <td>K-Neighbors Regressor</td>\n",
       "      <td>0.995995</td>\n",
       "    </tr>\n",
       "    <tr>\n",
       "      <th>6</th>\n",
       "      <td>XGBRegressor</td>\n",
       "      <td>0.975748</td>\n",
       "    </tr>\n",
       "    <tr>\n",
       "      <th>0</th>\n",
       "      <td>Linear Regression</td>\n",
       "      <td>0.974798</td>\n",
       "    </tr>\n",
       "    <tr>\n",
       "      <th>2</th>\n",
       "      <td>Ridge</td>\n",
       "      <td>0.974798</td>\n",
       "    </tr>\n",
       "    <tr>\n",
       "      <th>1</th>\n",
       "      <td>Lasso</td>\n",
       "      <td>0.974467</td>\n",
       "    </tr>\n",
       "    <tr>\n",
       "      <th>7</th>\n",
       "      <td>AdaBoost Regressor</td>\n",
       "      <td>0.908383</td>\n",
       "    </tr>\n",
       "  </tbody>\n",
       "</table>\n",
       "</div>"
      ],
      "text/plain": [
       "                Model Name  R2_Score\n",
       "5  Random Forest Regressor  0.998649\n",
       "4            Decision Tree  0.997709\n",
       "3    K-Neighbors Regressor  0.995995\n",
       "6             XGBRegressor  0.975748\n",
       "0        Linear Regression  0.974798\n",
       "2                    Ridge  0.974798\n",
       "1                    Lasso  0.974467\n",
       "7       AdaBoost Regressor  0.908383"
      ]
     },
     "execution_count": 19,
     "metadata": {},
     "output_type": "execute_result"
    }
   ],
   "source": [
    "pd.DataFrame(list(zip(model_list, r2_list)), columns=['Model Name', 'R2_Score']).sort_values(by=[\"R2_Score\"],ascending=False)"
   ]
  },
  {
   "cell_type": "markdown",
   "metadata": {},
   "source": [
    "Random Forest Regressor"
   ]
  },
  {
   "cell_type": "code",
   "execution_count": 20,
   "metadata": {},
   "outputs": [
    {
     "name": "stdout",
     "output_type": "stream",
     "text": [
      " Accuracy of the model is 99.85\n"
     ]
    }
   ],
   "source": [
    "rfr_model = RandomForestRegressor(n_estimators=1000)\n",
    "rfr_model = rfr_model.fit(X_train, y_train)\n",
    "y_pred = rfr_model.predict(X_test)\n",
    "score = r2_score(y_test, y_pred)*100\n",
    "print(\" Accuracy of the model is %.2f\" %score)"
   ]
  },
  {
   "cell_type": "markdown",
   "metadata": {},
   "source": [
    "\n",
    "Plot y_pred and y_test"
   ]
  },
  {
   "cell_type": "code",
   "execution_count": 21,
   "metadata": {},
   "outputs": [],
   "source": [
    "import matplotlib.pyplot as plt"
   ]
  },
  {
   "cell_type": "code",
   "execution_count": 22,
   "metadata": {},
   "outputs": [
    {
     "data": {
      "text/plain": [
       "Text(0, 0.5, 'Predicted')"
      ]
     },
     "execution_count": 22,
     "metadata": {},
     "output_type": "execute_result"
    },
    {
     "data": {
      "image/png": "[encoded data removed]",
      "text/plain": [
       "<Figure size 640x480 with 1 Axes>"
      ]
     },
     "metadata": {},
     "output_type": "display_data"
    }
   ],
   "source": [
    "plt.scatter(y_test,y_pred)\n",
    "plt.xlabel('Actual')\n",
    "plt.ylabel('Predicted')"
   ]
  },
  {
   "cell_type": "code",
   "execution_count": 23,
   "metadata": {},
   "outputs": [
    {
     "data": {
      "text/plain": [
       "<Axes: xlabel='AQI_Value'>"
      ]
     },
     "execution_count": 23,
     "metadata": {},
     "output_type": "execute_result"
    },
    {
     "data": {
      "image/png": "[encoded data removed]",
      "text/plain": [
       "<Figure size 640x480 with 1 Axes>"
      ]
     },
     "metadata": {},
     "output_type": "display_data"
    }
   ],
   "source": [
    "sns.regplot(x=y_test,y=y_pred,ci=None,color ='red')"
   ]
  },
  {
   "cell_type": "code",
   "execution_count": 24,
   "metadata": {},
   "outputs": [
    {
     "data": {
      "text/html": [
       "<div>\n",
       "<style scoped>\n",
       "    .dataframe tbody tr th:only-of-type {\n",
       "        vertical-align: middle;\n",
       "    }\n",
       "\n",
       "    .dataframe tbody tr th {\n",
       "        vertical-align: top;\n",
       "    }\n",
       "\n",
       "    .dataframe thead th {\n",
       "        text-align: right;\n",
       "    }\n",
       "</style>\n",
       "<table border=\"1\" class=\"dataframe\">\n",
       "  <thead>\n",
       "    <tr style=\"text-align: right;\">\n",
       "      <th></th>\n",
       "      <th>Actual Value</th>\n",
       "      <th>Predicted Value</th>\n",
       "      <th>Difference</th>\n",
       "    </tr>\n",
       "  </thead>\n",
       "  <tbody>\n",
       "    <tr>\n",
       "      <th>11822</th>\n",
       "      <td>38</td>\n",
       "      <td>38.000</td>\n",
       "      <td>0.000</td>\n",
       "    </tr>\n",
       "    <tr>\n",
       "      <th>7379</th>\n",
       "      <td>150</td>\n",
       "      <td>150.000</td>\n",
       "      <td>0.000</td>\n",
       "    </tr>\n",
       "    <tr>\n",
       "      <th>6494</th>\n",
       "      <td>157</td>\n",
       "      <td>157.000</td>\n",
       "      <td>0.000</td>\n",
       "    </tr>\n",
       "    <tr>\n",
       "      <th>8749</th>\n",
       "      <td>58</td>\n",
       "      <td>58.000</td>\n",
       "      <td>0.000</td>\n",
       "    </tr>\n",
       "    <tr>\n",
       "      <th>5129</th>\n",
       "      <td>156</td>\n",
       "      <td>156.000</td>\n",
       "      <td>0.000</td>\n",
       "    </tr>\n",
       "    <tr>\n",
       "      <th>...</th>\n",
       "      <td>...</td>\n",
       "      <td>...</td>\n",
       "      <td>...</td>\n",
       "    </tr>\n",
       "    <tr>\n",
       "      <th>14332</th>\n",
       "      <td>52</td>\n",
       "      <td>52.000</td>\n",
       "      <td>0.000</td>\n",
       "    </tr>\n",
       "    <tr>\n",
       "      <th>83</th>\n",
       "      <td>23</td>\n",
       "      <td>23.000</td>\n",
       "      <td>0.000</td>\n",
       "    </tr>\n",
       "    <tr>\n",
       "      <th>11955</th>\n",
       "      <td>129</td>\n",
       "      <td>128.996</td>\n",
       "      <td>0.004</td>\n",
       "    </tr>\n",
       "    <tr>\n",
       "      <th>16051</th>\n",
       "      <td>203</td>\n",
       "      <td>202.060</td>\n",
       "      <td>0.940</td>\n",
       "    </tr>\n",
       "    <tr>\n",
       "      <th>14580</th>\n",
       "      <td>30</td>\n",
       "      <td>30.000</td>\n",
       "      <td>0.000</td>\n",
       "    </tr>\n",
       "  </tbody>\n",
       "</table>\n",
       "<p>3339 rows × 3 columns</p>\n",
       "</div>"
      ],
      "text/plain": [
       "       Actual Value  Predicted Value  Difference\n",
       "11822            38           38.000       0.000\n",
       "7379            150          150.000       0.000\n",
       "6494            157          157.000       0.000\n",
       "8749             58           58.000       0.000\n",
       "5129            156          156.000       0.000\n",
       "...             ...              ...         ...\n",
       "14332            52           52.000       0.000\n",
       "83               23           23.000       0.000\n",
       "11955           129          128.996       0.004\n",
       "16051           203          202.060       0.940\n",
       "14580            30           30.000       0.000\n",
       "\n",
       "[3339 rows x 3 columns]"
      ]
     },
     "execution_count": 24,
     "metadata": {},
     "output_type": "execute_result"
    }
   ],
   "source": [
    "pred_df=pd.DataFrame({'Actual Value':y_test,'Predicted Value':y_pred,'Difference':y_test-y_pred})\n",
    "pred_df"
   ]
  },
  {
   "cell_type": "code",
   "execution_count": 25,
   "metadata": {},
   "outputs": [
    {
     "name": "stdout",
     "output_type": "stream",
     "text": [
      "[9.848]\n"
     ]
    },
    {
     "name": "stderr",
     "output_type": "stream",
     "text": [
      "c:\\Users\\rajna\\OneDrive\\Desktop\\P03\\venv\\lib\\site-packages\\sklearn\\base.py:465: UserWarning: X does not have valid feature names, but RandomForestRegressor was fitted with feature names\n",
      "  warnings.warn(\n"
     ]
    }
   ],
   "source": [
    "prediction_result= rfr_model.predict([[1, 10, 5, 11, 10, 5]])\n",
    "\n",
    "print(prediction_result)"
   ]
  }
 ],
 "metadata": {
  "kernelspec": {
   "display_name": "Python 3",
   "language": "python",
   "name": "python3"
  },
  "language_info": {
   "codemirror_mode": {
    "name": "ipython",
    "version": 3
   },
   "file_extension": ".py",
   "mimetype": "text/x-python",
   "name": "python",
   "nbconvert_exporter": "python",
   "pygments_lexer": "ipython3",
   "version": "3.8.20"
  }
 },
 "nbformat": 4,
 "nbformat_minor": 2
}
